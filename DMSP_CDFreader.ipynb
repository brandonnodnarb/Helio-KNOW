{
 "cells": [
  {
   "cell_type": "markdown",
   "metadata": {},
   "source": [
    "#### Script to read DMSP CDF files"
   ]
  },
  {
   "cell_type": "code",
   "execution_count": 1,
   "metadata": {
    "ExecuteTime": {
     "end_time": "2020-05-21T13:08:07.317583Z",
     "start_time": "2020-05-21T13:08:06.643651Z"
    }
   },
   "outputs": [],
   "source": [
    "from spacepy import pycdf\n",
    "\n",
    "import numpy as np\n",
    "import os\n",
    "import pandas as pd\n",
    "import datetime\n",
    "import sys\n",
    "from os.path import isfile, join\n",
    "import glob\n",
    "\n",
    "from random import *\n",
    "\n"
   ]
  },
  {
   "cell_type": "code",
   "execution_count": null,
   "metadata": {},
   "outputs": [],
   "source": [
    "def dmsp_cdf_to_dataframe(directoryname,filename):\n",
    "    ds = pycdf.CDF(os.path.join(filedirectory,filenames[0]))\n",
    "    \n",
    "    print('Variables in the file: ')\n",
    "    # See the variable names in the file\n",
    "        for i in ds:\n",
    "            print('variable name = {}'.format(i))\n",
    "    print('\\n\\n')\n",
    "    \n",
    "    \n",
    "    df = pd.DataFrame()\n",
    "    channel_energies = ds['CHANNEL_ENERGIES'][...]\n",
    "    df['datetime'] = pd.Series(ds['Epoch'][...])\n",
    "\n",
    "    for i in ds:\n",
    "        # DataFrame\n",
    "        if (i == 'SC_GEOCENTRIC_LAT'):\n",
    "            df[i] = pd.Series(ds[i][...])\n",
    "        elif (i == 'SC_GEOCENTRIC_LON'):\n",
    "            df[i] = pd.Series(ds[i][...])\n",
    "        elif (i == 'SC_GEOCENTRIC_R'):\n",
    "            df[i] = pd.Series(ds[i][...])\n",
    "        elif (i == 'SC_AACGM_LAT'):\n",
    "            df[i] = pd.Series(ds[i][...])\n",
    "        elif (i == 'SC_AACGM_LON'):\n",
    "            df[i] = pd.Series(ds[i][...])\n",
    "        elif (i == 'SC_AACGM_LTIME'):\n",
    "            df[i] = pd.Series(ds[i][...])\n",
    "        elif (i == 'ELE_DIFF_ENERGY_FLUX'):\n",
    "            for j in range(ds[i].shape[1]):\n",
    "                df['ELE_DIFF_ENERGY_FLUX: channel energy=' + str(channel_energies[j])] = pd.Series(ds[i][:,j])\n",
    "        elif (i == 'ELE_DIFF_ENERGY_FLUX_STD'):\n",
    "            for j in range(ds[i].shape[1]):\n",
    "                df['ELE_DIFF_ENERGY_FLUX_STD: channel energy=' + str(channel_energies[j])] = pd.Series(ds[i][:,j])\n",
    "        elif (i == 'ELE_TOTAL_ENERGY_FLUX'):\n",
    "            df[i] = pd.Series(ds[i][...])\n",
    "        elif (i == 'ELE_TOTAL_ENERGY_FLUX_STD'):\n",
    "            df[i] = pd.Series(ds[i][...])\n",
    "        elif (i == 'ELE_AVG_ENERGY'):\n",
    "            df[i] = pd.Series(ds[i][...])\n",
    "        elif (i == 'ELE_AVG_ENERGY_STD'):\n",
    "            df[i] = pd.Series(ds[i][...])\n",
    "        elif (i == 'AURORAL_REGION'):\n",
    "            df[i] = pd.Series(ds[i][...])\n",
    "        elif (i == 'AURORAL_BOUNDARY_FOM'):\n",
    "            df[i] = pd.Series(ds[i][...])\n",
    "        elif (i == 'ORBIT_INDEX'):\n",
    "            df[i] = pd.Series(dXSs[i][...])\n",
    "            \n",
    "    return df\n"
   ]
  },
  {
   "cell_type": "code",
   "execution_count": 3,
   "metadata": {
    "ExecuteTime": {
     "end_time": "2020-05-21T13:09:41.269466Z",
     "start_time": "2020-05-21T13:09:41.032146Z"
    }
   },
   "outputs": [
    {
     "name": "stdout",
     "output_type": "stream",
     "text": [
      "variable name = Epoch\n",
      "variable name = SC_ECI\n",
      "variable name = SC_ECI_LABEL\n",
      "variable name = SC_GEOCENTRIC_LAT\n",
      "variable name = SC_GEOCENTRIC_LON\n",
      "variable name = SC_GEOCENTRIC_R\n",
      "variable name = SC_AACGM_LAT\n",
      "variable name = SC_AACGM_LON\n",
      "variable name = SC_AACGM_LTIME\n",
      "variable name = CHANNEL_ENERGIES\n",
      "variable name = ELE_COUNTS_OBS\n",
      "variable name = ELE_COUNTS_BKG\n",
      "variable name = ELE_GEOMETRIC\n",
      "variable name = ELE_DIFF_ENERGY_FLUX\n",
      "variable name = ELE_DIFF_ENERGY_FLUX_STD\n",
      "variable name = ELE_TOTAL_ENERGY_FLUX\n",
      "variable name = ELE_TOTAL_ENERGY_FLUX_STD\n",
      "variable name = ELE_AVG_ENERGY\n",
      "variable name = ELE_AVG_ENERGY_STD\n",
      "variable name = ION_COUNTS_OBS\n",
      "variable name = ION_COUNTS_BKG\n",
      "variable name = ION_GEOMETRIC\n",
      "variable name = ION_DIFF_ENERGY_FLUX\n",
      "variable name = ION_DIFF_ENERGY_FLUX_STD\n",
      "variable name = ION_TOTAL_ENERGY_FLUX\n",
      "variable name = ION_TOTAL_ENERGY_FLUX_STD\n",
      "variable name = ION_AVG_ENERGY\n",
      "variable name = ION_AVG_ENERGY_STD\n",
      "variable name = AURORAL_REGION\n",
      "variable name = ORBIT_INDEX\n",
      "variable name = AURORAL_BOUNDARY_FOM\n",
      "variable name = SC_APEX_LAT\n",
      "variable name = SC_APEX_LON\n",
      "variable name = SC_APEX_MLT\n"
     ]
    }
   ],
   "source": [
    "filedirectory = '/Users/ryanmcgranaghan/Documents/DMSPdata/2015/'\n",
    "filenames = ['dmsp-f16_ssj_precipitating-electrons-ions_20150317_v1.1.3.cdf',\n",
    "             'dmsp-f17_ssj_precipitating-electrons-ions_20150317_v1.1.3.cdf',\n",
    "             'dmsp-f18_ssj_precipitating-electrons-ions_20150317_v1.1.3.cdf']\n",
    "\n",
    "\n",
    "\n"
   ]
  },
  {
   "cell_type": "code",
   "execution_count": 4,
   "metadata": {
    "ExecuteTime": {
     "end_time": "2020-05-21T13:11:43.651860Z",
     "start_time": "2020-05-21T13:11:43.644726Z"
    }
   },
   "outputs": [],
   "source": [
    "f16_auroralregion = data_f16['AURORAL_REGION'][...]\n",
    "f16_auroralboundaryfom = data_f16['AURORAL_BOUNDARY_FOM'][...]\n",
    "f16_orbit = data_f16['AURORAL_BOUNDARY_FOM'][...]\n"
   ]
  },
  {
   "cell_type": "code",
   "execution_count": 13,
   "metadata": {
    "ExecuteTime": {
     "end_time": "2020-05-21T13:41:16.034160Z",
     "start_time": "2020-05-21T13:41:16.012813Z"
    }
   },
   "outputs": [
    {
     "name": "stdout",
     "output_type": "stream",
     "text": [
      "CATDESC: Numerical code for auroral region of spacecraft location [CDF_CHAR]\n",
      "DEPEND_0: Epoch [CDF_CHAR]\n",
      "DISPLAY_TYPE: time_series [CDF_CHAR]\n",
      "FIELDNAM: AURORAL_REGION [CDF_CHAR]\n",
      "FILLVAL: nan [CDF_FLOAT]\n",
      "FORMAT: E12.2 [CDF_CHAR]\n",
      "LABLAXIS: AURORAL_REGION [CDF_CHAR]\n",
      "SCALETYP: linear [CDF_CHAR]\n",
      "UNITS: N/A [CDF_CHAR]\n",
      "VALIDMAX: 3.0 [CDF_FLOAT]\n",
      "VALIDMIN: 0.0 [CDF_FLOAT]\n",
      "VAR_NOTES: 0 = No boundary identified,\n",
      "1 = Equatorward of the auroral zone, \n",
      "2 = In the auroral zone, \n",
      "3 = Polar cap [CDF_CHAR]\n",
      "VAR_TYPE: data [CDF_CHAR]\n",
      "\n",
      "\n",
      "CATDESC: Figure of Merit for Auroral Boundary Determination [CDF_CHAR]\n",
      "DEPEND_0: Epoch [CDF_CHAR]\n",
      "DISPLAY_TYPE: time_series [CDF_CHAR]\n",
      "FIELDNAM: AURORAL_BOUNDARY_FOM [CDF_CHAR]\n",
      "FILLVAL: nan [CDF_FLOAT]\n",
      "FORMAT: E12.2 [CDF_CHAR]\n",
      "LABLAXIS: AURORAL_BOUNDARY_FOM [CDF_CHAR]\n",
      "SCALETYP: linear [CDF_CHAR]\n",
      "UNITS: N/A [CDF_CHAR]\n",
      "VALIDMAX: 5.0 [CDF_FLOAT]\n",
      "VALIDMIN: 0.0 [CDF_FLOAT]\n",
      "VAR_NOTES: Typical range 0-3. Less than 1.7 is suspect.\n",
      "Computed as ( FOM = A_xa/A_max + A_xd/A_max + DTa,d ) where A represents the sum of the flux above threshold, subscripts xa,xd represent ascending and descending auroral crossings and DTa,d represents the time elapsed between the poleward edges of ascending and descending crossings (size of polar cap region in elapsed spacecraft time). [CDF_CHAR]\n",
      "VAR_TYPE: data [CDF_CHAR]\n",
      "\n",
      "\n",
      "CATDESC: Integer representing the orbit of the day, signed by hemisphere (>0 Northern, <0 Southern). [CDF_CHAR]\n",
      "DEPEND_0: Epoch [CDF_CHAR]\n",
      "DISPLAY_TYPE: time_series [CDF_CHAR]\n",
      "FIELDNAM: ORBIT_INDEX [CDF_CHAR]\n",
      "FILLVAL: nan [CDF_FLOAT]\n",
      "FORMAT: E12.2 [CDF_CHAR]\n",
      "LABLAXIS: ORBIT_INDEX [CDF_CHAR]\n",
      "SCALETYP: linear [CDF_CHAR]\n",
      "UNITS: N/A [CDF_CHAR]\n",
      "VALIDMAX: 18.0 [CDF_FLOAT]\n",
      "VALIDMIN: -18.0 [CDF_FLOAT]\n",
      "VAR_NOTES: Orbit determined by Apex magnetic equator crossing. Zero for before first equator crossing of the day. [CDF_CHAR]\n",
      "VAR_TYPE: data [CDF_CHAR]\n"
     ]
    }
   ],
   "source": [
    "print(data_f16['AURORAL_REGION'].attrs)\n",
    "\n",
    "print()\n",
    "print()\n",
    "\n",
    "print(data_f16['AURORAL_BOUNDARY_FOM'].attrs)\n",
    "\n",
    "\n",
    "print()\n",
    "print()\n",
    "\n",
    "print(data_f16['ORBIT_INDEX'].attrs)\n",
    "\n"
   ]
  },
  {
   "cell_type": "code",
   "execution_count": 7,
   "metadata": {
    "ExecuteTime": {
     "end_time": "2020-05-21T13:18:11.772091Z",
     "start_time": "2020-05-21T13:18:11.695449Z"
    }
   },
   "outputs": [],
   "source": [
    "filename_chc = 'dmsp-f16_ssj_precipitating-electrons-ions_20100120_v1.1.2.cdf'\n",
    "data_chc = pycdf.CDF(os.path.join('/Users/ryanmcgranaghan/Documents/DMSPdata/data/',filename_chc)) # with spacepy + CDF\n"
   ]
  },
  {
   "cell_type": "code",
   "execution_count": 8,
   "metadata": {
    "ExecuteTime": {
     "end_time": "2020-05-21T13:18:13.930732Z",
     "start_time": "2020-05-21T13:18:13.925044Z"
    }
   },
   "outputs": [
    {
     "data": {
      "text/plain": [
       "<CDF:\n",
       "CHANNEL_ENERGIES: CDF_FLOAT [19] NRV\n",
       "ELE_AVG_ENERGY: CDF_FLOAT [86400]\n",
       "ELE_AVG_ENERGY_STD: CDF_FLOAT [86400]\n",
       "ELE_COUNTS_BKG: CDF_FLOAT [86400, 19]\n",
       "ELE_COUNTS_OBS: CDF_FLOAT [86400, 19]\n",
       "ELE_DIFF_ENERGY_FLUX: CDF_FLOAT [86400, 19]\n",
       "ELE_DIFF_ENERGY_FLUX_STD: CDF_FLOAT [86400, 19]\n",
       "ELE_GEOMETRIC: CDF_DOUBLE [19] NRV\n",
       "ELE_TOTAL_ENERGY_FLUX: CDF_FLOAT [86400]\n",
       "ELE_TOTAL_ENERGY_FLUX_STD: CDF_FLOAT [86400]\n",
       "Epoch: CDF_EPOCH [86400]\n",
       "ION_AVG_ENERGY: CDF_FLOAT [86400]\n",
       "ION_AVG_ENERGY_STD: CDF_FLOAT [86400]\n",
       "ION_COUNTS_BKG: CDF_FLOAT [86400, 19]\n",
       "ION_COUNTS_OBS: CDF_FLOAT [86400, 19]\n",
       "ION_DIFF_ENERGY_FLUX: CDF_FLOAT [86400, 19]\n",
       "ION_DIFF_ENERGY_FLUX_STD: CDF_FLOAT [86400, 19]\n",
       "ION_GEOMETRIC: CDF_DOUBLE [19] NRV\n",
       "ION_TOTAL_ENERGY_FLUX: CDF_FLOAT [86400]\n",
       "ION_TOTAL_ENERGY_FLUX_STD: CDF_FLOAT [86400]\n",
       "SC_AACGM_LAT: CDF_DOUBLE [86400]\n",
       "SC_AACGM_LON: CDF_DOUBLE [86400]\n",
       "SC_AACGM_LTIME: CDF_DOUBLE [86400]\n",
       "SC_ECI: CDF_DOUBLE [86400, 3]\n",
       "SC_ECI_LABEL: CDF_CHAR*5 [3] NRV\n",
       "SC_GEOCENTRIC_LAT: CDF_DOUBLE [86400]\n",
       "SC_GEOCENTRIC_LON: CDF_DOUBLE [86400]\n",
       "SC_GEOCENTRIC_R: CDF_DOUBLE [86400]\n",
       ">"
      ]
     },
     "execution_count": 8,
     "metadata": {},
     "output_type": "execute_result"
    }
   ],
   "source": [
    "data_chc"
   ]
  },
  {
   "cell_type": "code",
   "execution_count": null,
   "metadata": {},
   "outputs": [],
   "source": []
  },
  {
   "cell_type": "code",
   "execution_count": null,
   "metadata": {},
   "outputs": [],
   "source": []
  },
  {
   "cell_type": "code",
   "execution_count": null,
   "metadata": {},
   "outputs": [],
   "source": []
  }
 ],
 "metadata": {
  "kernelspec": {
   "display_name": "Python 3",
   "language": "python",
   "name": "python3"
  },
  "language_info": {
   "codemirror_mode": {
    "name": "ipython",
    "version": 3
   },
   "file_extension": ".py",
   "mimetype": "text/x-python",
   "name": "python",
   "nbconvert_exporter": "python",
   "pygments_lexer": "ipython3",
   "version": "3.6.8"
  }
 },
 "nbformat": 4,
 "nbformat_minor": 2
}
