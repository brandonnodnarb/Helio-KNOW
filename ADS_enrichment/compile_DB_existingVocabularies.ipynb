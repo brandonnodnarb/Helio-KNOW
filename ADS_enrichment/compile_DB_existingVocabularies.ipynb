{
 "cells": [
  {
   "cell_type": "markdown",
   "id": "6583e1ac",
   "metadata": {
    "ExecuteTime": {
     "end_time": "2022-04-25T18:12:23.403592Z",
     "start_time": "2022-04-25T18:12:23.399642Z"
    }
   },
   "source": [
    "This script is to pull from the existing Heliophysics vocabularies to create a database of all terms, whether they are defined, the number of times they are defined, and any gaps\n",
    "\n",
    "compiling relevant space weather and helio relevant vocabularies [here](https://docs.google.com/spreadsheets/d/15D5tm6TchdZXfwjnDpJMh8ICCsU4C3qGM-amX9YjZkM/edit?usp=sharing)\n",
    "\n",
    "We will not attempt to bring in all glossaries in this project. The subset we will begin with are: \n",
    "- AGU\n",
    "- NOAA Space Weather\n",
    "- NASA Heliophysics Vocabulary\n",
    "- ESA Space Weather Glossary\n",
    "- (Maybe) a very small subset of the AMS Glossary of Meteorology\n",
    "\n",
    "\n",
    "\n",
    "\n"
   ]
  },
  {
   "cell_type": "code",
   "execution_count": 16,
   "id": "350c976e",
   "metadata": {
    "ExecuteTime": {
     "end_time": "2022-04-25T20:11:15.743771Z",
     "start_time": "2022-04-25T20:11:15.741671Z"
    }
   },
   "outputs": [],
   "source": [
    "import os, json\n",
    "import numpy as np\n",
    "import pandas as pd\n"
   ]
  },
  {
   "cell_type": "code",
   "execution_count": 17,
   "id": "f9f057ce",
   "metadata": {
    "ExecuteTime": {
     "end_time": "2022-04-25T20:11:16.131260Z",
     "start_time": "2022-04-25T20:11:16.128893Z"
    }
   },
   "outputs": [],
   "source": [
    "directory_vocabs = 'data/'\n"
   ]
  },
  {
   "cell_type": "code",
   "execution_count": 18,
   "id": "918911cb",
   "metadata": {
    "ExecuteTime": {
     "end_time": "2022-04-25T20:11:16.709157Z",
     "start_time": "2022-04-25T20:11:16.633667Z"
    }
   },
   "outputs": [
    {
     "data": {
      "text/html": [
       "<div>\n",
       "<style scoped>\n",
       "    .dataframe tbody tr th:only-of-type {\n",
       "        vertical-align: middle;\n",
       "    }\n",
       "\n",
       "    .dataframe tbody tr th {\n",
       "        vertical-align: top;\n",
       "    }\n",
       "\n",
       "    .dataframe thead th {\n",
       "        text-align: right;\n",
       "    }\n",
       "</style>\n",
       "<table border=\"1\" class=\"dataframe\">\n",
       "  <thead>\n",
       "    <tr style=\"text-align: right;\">\n",
       "      <th></th>\n",
       "      <th>Code</th>\n",
       "      <th>Description</th>\n",
       "    </tr>\n",
       "  </thead>\n",
       "  <tbody>\n",
       "    <tr>\n",
       "      <th>0</th>\n",
       "      <td>200</td>\n",
       "      <td>GEOHEALTH</td>\n",
       "    </tr>\n",
       "    <tr>\n",
       "      <th>1</th>\n",
       "      <td>205</td>\n",
       "      <td>Archaeological Geology</td>\n",
       "    </tr>\n",
       "    <tr>\n",
       "      <th>2</th>\n",
       "      <td>210</td>\n",
       "      <td>Coal Geology</td>\n",
       "    </tr>\n",
       "    <tr>\n",
       "      <th>3</th>\n",
       "      <td>215</td>\n",
       "      <td>Economic geology</td>\n",
       "    </tr>\n",
       "    <tr>\n",
       "      <th>4</th>\n",
       "      <td>216</td>\n",
       "      <td>Engineering geology</td>\n",
       "    </tr>\n",
       "    <tr>\n",
       "      <th>...</th>\n",
       "      <td>...</td>\n",
       "      <td>...</td>\n",
       "    </tr>\n",
       "    <tr>\n",
       "      <th>1313</th>\n",
       "      <td>9805</td>\n",
       "      <td>Instruments useful in three or more fields</td>\n",
       "    </tr>\n",
       "    <tr>\n",
       "      <th>1314</th>\n",
       "      <td>9810</td>\n",
       "      <td>New fields (not classifiable under other headi...</td>\n",
       "    </tr>\n",
       "    <tr>\n",
       "      <th>1315</th>\n",
       "      <td>9815</td>\n",
       "      <td>Notices and announcements</td>\n",
       "    </tr>\n",
       "    <tr>\n",
       "      <th>1316</th>\n",
       "      <td>9820</td>\n",
       "      <td>Techniques applicable in three or more fields</td>\n",
       "    </tr>\n",
       "    <tr>\n",
       "      <th>1317</th>\n",
       "      <td>9900</td>\n",
       "      <td>CORRECTIONS</td>\n",
       "    </tr>\n",
       "  </tbody>\n",
       "</table>\n",
       "<p>1318 rows × 2 columns</p>\n",
       "</div>"
      ],
      "text/plain": [
       "      Code                                        Description\n",
       "0      200                                          GEOHEALTH\n",
       "1      205                             Archaeological Geology\n",
       "2      210                                       Coal Geology\n",
       "3      215                                   Economic geology\n",
       "4      216                                Engineering geology\n",
       "...    ...                                                ...\n",
       "1313  9805         Instruments useful in three or more fields\n",
       "1314  9810  New fields (not classifiable under other headi...\n",
       "1315  9815                          Notices and announcements\n",
       "1316  9820      Techniques applicable in three or more fields\n",
       "1317  9900                                        CORRECTIONS\n",
       "\n",
       "[1318 rows x 2 columns]"
      ]
     },
     "execution_count": 18,
     "metadata": {},
     "output_type": "execute_result"
    }
   ],
   "source": [
    "# Read in AGU Index Terms\n",
    "pd_agu = pd.read_excel(os.path.join(directory_vocabs,'agu-index-terms.xlsx'))\n",
    "pd_agu\n",
    "\n",
    "# Pull out only the section terms we are interested in\n",
    "#  - Informatics (1900)\n",
    "#  - Interplanetary Physics (2100)\n",
    "#  - Ionosphere (2400)\n",
    "#  - Magnetosphere (2700)\n",
    "#  - Magnetosphere (2700)\n",
    "#  - Space Weather (2101, 2788, 7900, 4305)\n",
    "#  - Extreme events (1817, 3235, 4313)\n",
    "#  - Nonlinear Geophysics (3200, 4307, 6944, 7839, 4400)\n",
    "#  - Radio Science (6900)\n",
    "#  - Solar Physics, Astrophysics, and Astronomy (7500)\n",
    "#  - Space Plasma Physics (7800)\n",
    "#  - Space Plasma Physics (7800)\n",
    "#  - (maybe) Mathematical Geophysics (3200)\n",
    "#  - (maybe) Natural Hazards (4300)\n",
    "\n",
    "# NOTE: Important to maintain the hierarchy\n",
    "#  Establish structure that maintains the categories above defines the terms within them (e.g., Space Weather: Geomagnetically induced currents)\n",
    "\n",
    "# Remove duplicate terms\n"
   ]
  },
  {
   "cell_type": "code",
   "execution_count": null,
   "id": "43a33a44",
   "metadata": {},
   "outputs": [],
   "source": []
  },
  {
   "cell_type": "code",
   "execution_count": 19,
   "id": "4dcf4c32",
   "metadata": {
    "ExecuteTime": {
     "end_time": "2022-04-25T20:11:21.652597Z",
     "start_time": "2022-04-25T20:11:21.650716Z"
    }
   },
   "outputs": [],
   "source": [
    "# TODO\n",
    "# Read in NOAA Space Weather Glossary\n",
    "# Read in NASA Heliophysics Vocabulary\n",
    "# Read in ESA Space Weather Glossary\n",
    "# Read in and subselect AMS Glossary of Meteorology\n"
   ]
  },
  {
   "cell_type": "code",
   "execution_count": null,
   "id": "e40e3f9d",
   "metadata": {
    "ExecuteTime": {
     "end_time": "2022-04-25T20:10:52.761875Z",
     "start_time": "2022-04-25T20:10:52.721100Z"
    }
   },
   "outputs": [],
   "source": [
    "# Read in NOAA Space Weather Glossary\n",
    "pd_noaa # Need to read from HTML: https://www.swpc.noaa.gov/content/space-weather-glossary"
   ]
  },
  {
   "cell_type": "code",
   "execution_count": null,
   "id": "eafe55af",
   "metadata": {},
   "outputs": [],
   "source": []
  },
  {
   "cell_type": "code",
   "execution_count": null,
   "id": "c98a2347",
   "metadata": {},
   "outputs": [],
   "source": []
  }
 ],
 "metadata": {
  "kernelspec": {
   "display_name": "Python 3",
   "language": "python",
   "name": "python3"
  },
  "language_info": {
   "codemirror_mode": {
    "name": "ipython",
    "version": 3
   },
   "file_extension": ".py",
   "mimetype": "text/x-python",
   "name": "python",
   "nbconvert_exporter": "python",
   "pygments_lexer": "ipython3",
   "version": "3.9.2"
  }
 },
 "nbformat": 4,
 "nbformat_minor": 5
}
