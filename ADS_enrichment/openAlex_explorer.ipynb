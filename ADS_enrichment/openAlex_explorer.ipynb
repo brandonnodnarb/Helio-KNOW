{
 "cells": [
  {
   "cell_type": "code",
   "execution_count": 2,
   "id": "33bc80eb",
   "metadata": {
    "ExecuteTime": {
     "end_time": "2022-07-11T20:50:20.284358Z",
     "start_time": "2022-07-11T20:50:19.392293Z"
    }
   },
   "outputs": [],
   "source": [
    "\n",
    "\n",
    "import requests\n",
    "import numpy as np\n",
    "import json\n",
    "import pandas as pd\n"
   ]
  },
  {
   "cell_type": "code",
   "execution_count": 6,
   "id": "42c6797d",
   "metadata": {
    "ExecuteTime": {
     "end_time": "2022-07-11T20:51:04.086469Z",
     "start_time": "2022-07-11T20:51:03.967150Z"
    }
   },
   "outputs": [
    {
     "name": "stdout",
     "output_type": "stream",
     "text": [
      "Goddard Space Flight Center\n",
      "https://openalex.org/I1306266525\n"
     ]
    }
   ],
   "source": [
    "institution = requests.get(\n",
    "    'https://api.openalex.org/institutions?filter=display_name.search:Goddard%20Space%20Flight%20Center'\n",
    ").json()['results'][0]\n",
    "\n",
    "print(institution['display_name'])\n",
    "print(institution['id'])"
   ]
  },
  {
   "cell_type": "code",
   "execution_count": 16,
   "id": "dc0dcf0b",
   "metadata": {
    "ExecuteTime": {
     "end_time": "2022-07-11T20:56:36.161313Z",
     "start_time": "2022-07-11T20:56:36.057104Z"
    }
   },
   "outputs": [
    {
     "name": "stdout",
     "output_type": "stream",
     "text": [
      "Toward a Next Generation Particle Precipitation Model: Mesoscale Prediction Through Machine Learning (a Case Study and Framework for Progress)\n",
      "https://openalex.org/W3155261203\n"
     ]
    }
   ],
   "source": [
    "doc_ID = 'W3155261203'\n",
    "work = requests.get(\n",
    "    'https://api.openalex.org/works/'+doc_ID\n",
    ").json()\n",
    "\n",
    "\n",
    "print(work['display_name'])\n",
    "print(work['id'])"
   ]
  },
  {
   "cell_type": "code",
   "execution_count": 19,
   "id": "0b629273",
   "metadata": {
    "ExecuteTime": {
     "end_time": "2022-07-11T20:56:49.656756Z",
     "start_time": "2022-07-11T20:56:49.653281Z"
    }
   },
   "outputs": [
    {
     "name": "stdout",
     "output_type": "stream",
     "text": [
      "here are the concepts for document ID = W3155261203\n",
      "    Space weather\n",
      "    Mesoscale meteorology\n",
      "    Satellite\n",
      "    Computer science\n",
      "    Precipitation\n",
      "    Electron precipitation\n",
      "    Solar wind\n",
      "    Meteorology\n",
      "    Environmental science\n"
     ]
    }
   ],
   "source": [
    "print('here are the concepts for document ID = {}'.format(doc_ID))\n",
    "\n",
    "for c in work['concepts']:\n",
    "    print('    {}'.format(c['display_name']))"
   ]
  },
  {
   "cell_type": "code",
   "execution_count": null,
   "id": "db04b54b",
   "metadata": {},
   "outputs": [],
   "source": []
  }
 ],
 "metadata": {
  "kernelspec": {
   "display_name": "Python 3",
   "language": "python",
   "name": "python3"
  },
  "language_info": {
   "codemirror_mode": {
    "name": "ipython",
    "version": 3
   },
   "file_extension": ".py",
   "mimetype": "text/x-python",
   "name": "python",
   "nbconvert_exporter": "python",
   "pygments_lexer": "ipython3",
   "version": "3.9.2"
  }
 },
 "nbformat": 4,
 "nbformat_minor": 5
}
