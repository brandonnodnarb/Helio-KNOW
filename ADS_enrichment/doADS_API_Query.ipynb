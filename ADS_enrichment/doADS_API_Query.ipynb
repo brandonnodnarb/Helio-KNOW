{
 "cells": [
  {
   "cell_type": "markdown",
   "id": "7a0e776a",
   "metadata": {},
   "source": [
    "Henneken, Edwin\n",
    "\n",
    "May 3, 2022\n",
    "\t\n",
    "\n",
    "Hi Ryan\n",
    "\n",
    "I created a sample script that queries the ADS API. All you need to do is replace TOKEN by your ADS API token in this line\n",
    "\n",
    "APItoken = 'TOKEN'\n",
    "\n",
    "You can find your token here (when you're logged in to your ADS account): https://ui.adsabs.harvard.edu/user/settings/token\n",
    "\n",
    "The file takes an input ASCII file (I attached an example) which has on each line a file name and an ADS query, separated by a tab. The file name will be the name of the TSV file that will hold the results of the query; a date string will be included in the name of the TSV file, so if you execute this script, say, once a month, previous output won't be overwritten. In its current version, the TSV file has 6 columns:\n",
    "\n",
    "1: bibcode\n",
    "2: DOI\n",
    "3: first author\n",
    "4: article title\n",
    "5: refereed status (\"1\" is refereed, \"0\" is nonrefereed)\n",
    "6: open access status (\"1\" is open access, \"0\" is not open access)\n",
    "\n",
    "The script is executed like\n",
    "\n",
    "  python doADS_API_Query.py queries.txt\n",
    "\n",
    "I hope this is useful.\n",
    "\n",
    "--Edwin\n",
    "\n"
   ]
  },
  {
   "cell_type": "markdown",
   "id": "c9846651",
   "metadata": {},
   "source": [
    "Questions\n",
    " - use of urllib2 (deprecated for Python3?)\n",
    " - ...\n",
    " \n",
    " "
   ]
  },
  {
   "cell_type": "code",
   "execution_count": 23,
   "id": "745e1a48",
   "metadata": {
    "ExecuteTime": {
     "end_time": "2022-05-09T19:42:15.275823Z",
     "start_time": "2022-05-09T19:42:15.229046Z"
    }
   },
   "outputs": [],
   "source": [
    "# Import standard Python libraries\n",
    "# import urllib2\n",
    "# import urllib\n",
    "import urllib3\n",
    "import json\n",
    "import sys\n",
    "import math\n",
    "import csv\n",
    "from datetime import datetime\n",
    "\n",
    "import pandas as pd\n"
   ]
  },
  {
   "cell_type": "code",
   "execution_count": 36,
   "id": "89726945",
   "metadata": {
    "ExecuteTime": {
     "end_time": "2022-05-09T19:49:26.769068Z",
     "start_time": "2022-05-09T19:49:26.764019Z"
    }
   },
   "outputs": [
    {
     "data": {
      "text/plain": [
       "'%s?%s'"
      ]
     },
     "execution_count": 36,
     "metadata": {},
     "output_type": "execute_result"
    }
   ],
   "source": []
  },
  {
   "cell_type": "code",
   "execution_count": 37,
   "id": "6bf3695e",
   "metadata": {
    "ExecuteTime": {
     "end_time": "2022-05-09T19:49:46.179934Z",
     "start_time": "2022-05-09T19:49:46.173775Z"
    }
   },
   "outputs": [],
   "source": [
    "## Helper functions\n",
    "# Execute a search query\n",
    "def do_query(URL, params):\n",
    "    qparams = urllib.parse.urlencode(params)\n",
    "    http = urllib3.PoolManager()\n",
    "    req = http.request(\"%s?%s\".format(URL, qparams))\n",
    "    # and add the correct header information\n",
    "    req.add_header('Content-type', 'application/json')\n",
    "    req.add_header('Accept', 'text/plain')\n",
    "    req.add_header('Authorization', 'Bearer %s' % APItoken)\n",
    "    # do the actual request\n",
    "    resp = urllib3.urlopen(req)\n",
    "    # and retrieve the data to work with\n",
    "    data = json.load(resp)\n",
    "    return data\n",
    "# Get records from Solr\n",
    "def get_records(token, query_string, return_fields):\n",
    "    start = 0\n",
    "    results = []\n",
    "    params = {\n",
    "        'q':query_string,\n",
    "        'fl': return_fields,\n",
    "        'rows': rows,\n",
    "        'start': start\n",
    "    }\n",
    "    data = do_query(QUERY_URL, params)\n",
    "    try:\n",
    "        results = data['response']['docs']\n",
    "    except:\n",
    "        raise Exception('Solr returned unexpected data!')\n",
    "    num_documents = int(data['response']['numFound'])\n",
    "    num_paginates = int(math.ceil((num_documents) / (1.0*rows))) - 1\n",
    "    start += rows\n",
    "    for i in range(num_paginates):\n",
    "        params['start'] = start\n",
    "        data = do_query(QUERY_URL, params)\n",
    "        try:\n",
    "            results += data['response']['docs']\n",
    "        except:\n",
    "            raise Exception('Solr returned unexpected data!')\n",
    "        start += rows\n",
    "    return results\n",
    "\n"
   ]
  },
  {
   "cell_type": "code",
   "execution_count": 14,
   "id": "38bd76ef",
   "metadata": {
    "ExecuteTime": {
     "end_time": "2022-05-09T18:39:59.335325Z",
     "start_time": "2022-05-09T18:39:59.330966Z"
    }
   },
   "outputs": [
    {
     "data": {
      "text/plain": [
       "['# each line: two entries separated by tab',\n",
       " '# first column: name of output file',\n",
       " '# second column: ADS query',\n",
       " 'active_solar_chromosphere\\tkeyword_schema:UAT keyword:1980']"
      ]
     },
     "execution_count": 14,
     "metadata": {},
     "output_type": "execute_result"
    }
   ],
   "source": [
    "query_file = '/Users/ryanmcgranaghan/Documents/Helio_ECIP/dev/Helio-KNOW/ADS_enrichment/queries.txt'\n",
    "\n",
    "queries = open(query_file).read().strip().split('\\n')\n",
    "queries"
   ]
  },
  {
   "cell_type": "code",
   "execution_count": 38,
   "id": "21d2442d",
   "metadata": {
    "ExecuteTime": {
     "end_time": "2022-05-09T19:49:48.340920Z",
     "start_time": "2022-05-09T19:49:48.312952Z"
    }
   },
   "outputs": [
    {
     "name": "stderr",
     "output_type": "stream",
     "text": [
      "ERROR:root:Internal Python error in the inspect module.\n",
      "Below is the traceback from this internal error.\n",
      "\n"
     ]
    },
    {
     "name": "stdout",
     "output_type": "stream",
     "text": [
      "Traceback (most recent call last):\n",
      "  File \"<ipython-input-38-cd9c1d86c06d>\", line 51, in <module>\n",
      "    pubdata = get_records(APItoken, query, fields)\n",
      "  File \"<ipython-input-37-057a13c48be5>\", line 26, in get_records\n",
      "    data = do_query(QUERY_URL, params)\n",
      "  File \"<ipython-input-37-057a13c48be5>\", line 6, in do_query\n",
      "    req = http.request(\"%s?%s\".format(URL, qparams))\n",
      "TypeError: request() missing 1 required positional argument: 'url'\n",
      "\n",
      "During handling of the above exception, another exception occurred:\n",
      "\n",
      "Traceback (most recent call last):\n",
      "  File \"/Users/ryanmcgranaghan/opt/anaconda3/envs/pythontf/lib/python3.9/site-packages/IPython/core/interactiveshell.py\", line 3437, in run_code\n",
      "    exec(code_obj, self.user_global_ns, self.user_ns)\n",
      "  File \"<ipython-input-38-cd9c1d86c06d>\", line 53, in <module>\n",
      "    sys.exit('Failed to get results for query provided')\n",
      "SystemExit: Failed to get results for query provided\n",
      "\n",
      "During handling of the above exception, another exception occurred:\n",
      "\n",
      "Traceback (most recent call last):\n",
      "  File \"/Users/ryanmcgranaghan/opt/anaconda3/envs/pythontf/lib/python3.9/site-packages/IPython/core/ultratb.py\", line 1101, in get_records\n",
      "    return _fixed_getinnerframes(etb, number_of_lines_of_context, tb_offset)\n",
      "  File \"/Users/ryanmcgranaghan/opt/anaconda3/envs/pythontf/lib/python3.9/site-packages/IPython/core/ultratb.py\", line 248, in wrapped\n",
      "    return f(*args, **kwargs)\n",
      "  File \"/Users/ryanmcgranaghan/opt/anaconda3/envs/pythontf/lib/python3.9/site-packages/IPython/core/ultratb.py\", line 281, in _fixed_getinnerframes\n",
      "    records = fix_frame_records_filenames(inspect.getinnerframes(etb, context))\n",
      "  File \"/Users/ryanmcgranaghan/opt/anaconda3/envs/pythontf/lib/python3.9/inspect.py\", line 1541, in getinnerframes\n",
      "    frameinfo = (tb.tb_frame,) + getframeinfo(tb, context)\n",
      "AttributeError: 'tuple' object has no attribute 'tb_frame'\n"
     ]
    },
    {
     "ename": "TypeError",
     "evalue": "object of type 'NoneType' has no len()",
     "output_type": "error",
     "traceback": [
      "\u001b[0;31m---------------------------------------------------------------------------\u001b[0m",
      "\u001b[0;31mTypeError\u001b[0m                                 Traceback (most recent call last)",
      "\u001b[0;32m<ipython-input-38-cd9c1d86c06d>\u001b[0m in \u001b[0;36m<module>\u001b[0;34m\u001b[0m\n\u001b[1;32m     50\u001b[0m     \u001b[0;32mtry\u001b[0m\u001b[0;34m:\u001b[0m\u001b[0;34m\u001b[0m\u001b[0;34m\u001b[0m\u001b[0m\n\u001b[0;32m---> 51\u001b[0;31m         \u001b[0mpubdata\u001b[0m \u001b[0;34m=\u001b[0m \u001b[0mget_records\u001b[0m\u001b[0;34m(\u001b[0m\u001b[0mAPItoken\u001b[0m\u001b[0;34m,\u001b[0m \u001b[0mquery\u001b[0m\u001b[0;34m,\u001b[0m \u001b[0mfields\u001b[0m\u001b[0;34m)\u001b[0m\u001b[0;34m\u001b[0m\u001b[0;34m\u001b[0m\u001b[0m\n\u001b[0m\u001b[1;32m     52\u001b[0m     \u001b[0;32mexcept\u001b[0m \u001b[0mException\u001b[0m\u001b[0;34m:\u001b[0m\u001b[0;34m\u001b[0m\u001b[0;34m\u001b[0m\u001b[0m\n",
      "\u001b[0;32m<ipython-input-37-057a13c48be5>\u001b[0m in \u001b[0;36mget_records\u001b[0;34m(token, query_string, return_fields)\u001b[0m\n\u001b[1;32m     25\u001b[0m     }\n\u001b[0;32m---> 26\u001b[0;31m     \u001b[0mdata\u001b[0m \u001b[0;34m=\u001b[0m \u001b[0mdo_query\u001b[0m\u001b[0;34m(\u001b[0m\u001b[0mQUERY_URL\u001b[0m\u001b[0;34m,\u001b[0m \u001b[0mparams\u001b[0m\u001b[0;34m)\u001b[0m\u001b[0;34m\u001b[0m\u001b[0;34m\u001b[0m\u001b[0m\n\u001b[0m\u001b[1;32m     27\u001b[0m     \u001b[0;32mtry\u001b[0m\u001b[0;34m:\u001b[0m\u001b[0;34m\u001b[0m\u001b[0;34m\u001b[0m\u001b[0m\n",
      "\u001b[0;32m<ipython-input-37-057a13c48be5>\u001b[0m in \u001b[0;36mdo_query\u001b[0;34m(URL, params)\u001b[0m\n\u001b[1;32m      5\u001b[0m     \u001b[0mhttp\u001b[0m \u001b[0;34m=\u001b[0m \u001b[0murllib3\u001b[0m\u001b[0;34m.\u001b[0m\u001b[0mPoolManager\u001b[0m\u001b[0;34m(\u001b[0m\u001b[0;34m)\u001b[0m\u001b[0;34m\u001b[0m\u001b[0;34m\u001b[0m\u001b[0m\n\u001b[0;32m----> 6\u001b[0;31m     \u001b[0mreq\u001b[0m \u001b[0;34m=\u001b[0m \u001b[0mhttp\u001b[0m\u001b[0;34m.\u001b[0m\u001b[0mrequest\u001b[0m\u001b[0;34m(\u001b[0m\u001b[0;34m\"%s?%s\"\u001b[0m\u001b[0;34m.\u001b[0m\u001b[0mformat\u001b[0m\u001b[0;34m(\u001b[0m\u001b[0mURL\u001b[0m\u001b[0;34m,\u001b[0m \u001b[0mqparams\u001b[0m\u001b[0;34m)\u001b[0m\u001b[0;34m)\u001b[0m\u001b[0;34m\u001b[0m\u001b[0;34m\u001b[0m\u001b[0m\n\u001b[0m\u001b[1;32m      7\u001b[0m     \u001b[0;31m# and add the correct header information\u001b[0m\u001b[0;34m\u001b[0m\u001b[0;34m\u001b[0m\u001b[0;34m\u001b[0m\u001b[0m\n",
      "\u001b[0;31mTypeError\u001b[0m: request() missing 1 required positional argument: 'url'",
      "\nDuring handling of the above exception, another exception occurred:\n",
      "\u001b[0;31mSystemExit\u001b[0m                                Traceback (most recent call last)",
      "    \u001b[0;31m[... skipping hidden 1 frame]\u001b[0m\n",
      "\u001b[0;32m<ipython-input-38-cd9c1d86c06d>\u001b[0m in \u001b[0;36m<module>\u001b[0;34m\u001b[0m\n\u001b[1;32m     52\u001b[0m     \u001b[0;32mexcept\u001b[0m \u001b[0mException\u001b[0m\u001b[0;34m:\u001b[0m\u001b[0;34m\u001b[0m\u001b[0;34m\u001b[0m\u001b[0m\n\u001b[0;32m---> 53\u001b[0;31m         \u001b[0msys\u001b[0m\u001b[0;34m.\u001b[0m\u001b[0mexit\u001b[0m\u001b[0;34m(\u001b[0m\u001b[0;34m'Failed to get results for query provided'\u001b[0m\u001b[0;34m)\u001b[0m\u001b[0;34m\u001b[0m\u001b[0;34m\u001b[0m\u001b[0m\n\u001b[0m\u001b[1;32m     54\u001b[0m     \u001b[0;31m# determine output file\u001b[0m\u001b[0;34m\u001b[0m\u001b[0;34m\u001b[0m\u001b[0;34m\u001b[0m\u001b[0m\n",
      "\u001b[0;31mSystemExit\u001b[0m: Failed to get results for query provided",
      "\nDuring handling of the above exception, another exception occurred:\n",
      "\u001b[0;31mTypeError\u001b[0m                                 Traceback (most recent call last)",
      "    \u001b[0;31m[... skipping hidden 1 frame]\u001b[0m\n",
      "\u001b[0;32m~/opt/anaconda3/envs/pythontf/lib/python3.9/site-packages/IPython/core/interactiveshell.py\u001b[0m in \u001b[0;36mshowtraceback\u001b[0;34m(self, exc_tuple, filename, tb_offset, exception_only, running_compiled_code)\u001b[0m\n\u001b[1;32m   2052\u001b[0m                     stb = ['An exception has occurred, use %tb to see '\n\u001b[1;32m   2053\u001b[0m                            'the full traceback.\\n']\n\u001b[0;32m-> 2054\u001b[0;31m                     stb.extend(self.InteractiveTB.get_exception_only(etype,\n\u001b[0m\u001b[1;32m   2055\u001b[0m                                                                      value))\n\u001b[1;32m   2056\u001b[0m                 \u001b[0;32melse\u001b[0m\u001b[0;34m:\u001b[0m\u001b[0;34m\u001b[0m\u001b[0;34m\u001b[0m\u001b[0m\n",
      "\u001b[0;32m~/opt/anaconda3/envs/pythontf/lib/python3.9/site-packages/IPython/core/ultratb.py\u001b[0m in \u001b[0;36mget_exception_only\u001b[0;34m(self, etype, value)\u001b[0m\n\u001b[1;32m    752\u001b[0m         \u001b[0mvalue\u001b[0m \u001b[0;34m:\u001b[0m \u001b[0mexception\u001b[0m \u001b[0mvalue\u001b[0m\u001b[0;34m\u001b[0m\u001b[0;34m\u001b[0m\u001b[0m\n\u001b[1;32m    753\u001b[0m         \"\"\"\n\u001b[0;32m--> 754\u001b[0;31m         \u001b[0;32mreturn\u001b[0m \u001b[0mListTB\u001b[0m\u001b[0;34m.\u001b[0m\u001b[0mstructured_traceback\u001b[0m\u001b[0;34m(\u001b[0m\u001b[0mself\u001b[0m\u001b[0;34m,\u001b[0m \u001b[0metype\u001b[0m\u001b[0;34m,\u001b[0m \u001b[0mvalue\u001b[0m\u001b[0;34m)\u001b[0m\u001b[0;34m\u001b[0m\u001b[0;34m\u001b[0m\u001b[0m\n\u001b[0m\u001b[1;32m    755\u001b[0m \u001b[0;34m\u001b[0m\u001b[0m\n\u001b[1;32m    756\u001b[0m     \u001b[0;32mdef\u001b[0m \u001b[0mshow_exception_only\u001b[0m\u001b[0;34m(\u001b[0m\u001b[0mself\u001b[0m\u001b[0;34m,\u001b[0m \u001b[0metype\u001b[0m\u001b[0;34m,\u001b[0m \u001b[0mevalue\u001b[0m\u001b[0;34m)\u001b[0m\u001b[0;34m:\u001b[0m\u001b[0;34m\u001b[0m\u001b[0;34m\u001b[0m\u001b[0m\n",
      "\u001b[0;32m~/opt/anaconda3/envs/pythontf/lib/python3.9/site-packages/IPython/core/ultratb.py\u001b[0m in \u001b[0;36mstructured_traceback\u001b[0;34m(self, etype, evalue, etb, tb_offset, context)\u001b[0m\n\u001b[1;32m    627\u001b[0m             \u001b[0mchained_exceptions_tb_offset\u001b[0m \u001b[0;34m=\u001b[0m \u001b[0;36m0\u001b[0m\u001b[0;34m\u001b[0m\u001b[0;34m\u001b[0m\u001b[0m\n\u001b[1;32m    628\u001b[0m             out_list = (\n\u001b[0;32m--> 629\u001b[0;31m                 self.structured_traceback(\n\u001b[0m\u001b[1;32m    630\u001b[0m                     \u001b[0metype\u001b[0m\u001b[0;34m,\u001b[0m \u001b[0mevalue\u001b[0m\u001b[0;34m,\u001b[0m \u001b[0;34m(\u001b[0m\u001b[0metb\u001b[0m\u001b[0;34m,\u001b[0m \u001b[0mchained_exc_ids\u001b[0m\u001b[0;34m)\u001b[0m\u001b[0;34m,\u001b[0m\u001b[0;34m\u001b[0m\u001b[0;34m\u001b[0m\u001b[0m\n\u001b[1;32m    631\u001b[0m                     chained_exceptions_tb_offset, context)\n",
      "\u001b[0;32m~/opt/anaconda3/envs/pythontf/lib/python3.9/site-packages/IPython/core/ultratb.py\u001b[0m in \u001b[0;36mstructured_traceback\u001b[0;34m(self, etype, value, tb, tb_offset, number_of_lines_of_context)\u001b[0m\n\u001b[1;32m   1365\u001b[0m         \u001b[0;32melse\u001b[0m\u001b[0;34m:\u001b[0m\u001b[0;34m\u001b[0m\u001b[0;34m\u001b[0m\u001b[0m\n\u001b[1;32m   1366\u001b[0m             \u001b[0mself\u001b[0m\u001b[0;34m.\u001b[0m\u001b[0mtb\u001b[0m \u001b[0;34m=\u001b[0m \u001b[0mtb\u001b[0m\u001b[0;34m\u001b[0m\u001b[0;34m\u001b[0m\u001b[0m\n\u001b[0;32m-> 1367\u001b[0;31m         return FormattedTB.structured_traceback(\n\u001b[0m\u001b[1;32m   1368\u001b[0m             self, etype, value, tb, tb_offset, number_of_lines_of_context)\n\u001b[1;32m   1369\u001b[0m \u001b[0;34m\u001b[0m\u001b[0m\n",
      "\u001b[0;32m~/opt/anaconda3/envs/pythontf/lib/python3.9/site-packages/IPython/core/ultratb.py\u001b[0m in \u001b[0;36mstructured_traceback\u001b[0;34m(self, etype, value, tb, tb_offset, number_of_lines_of_context)\u001b[0m\n\u001b[1;32m   1265\u001b[0m         \u001b[0;32mif\u001b[0m \u001b[0mmode\u001b[0m \u001b[0;32min\u001b[0m \u001b[0mself\u001b[0m\u001b[0;34m.\u001b[0m\u001b[0mverbose_modes\u001b[0m\u001b[0;34m:\u001b[0m\u001b[0;34m\u001b[0m\u001b[0;34m\u001b[0m\u001b[0m\n\u001b[1;32m   1266\u001b[0m             \u001b[0;31m# Verbose modes need a full traceback\u001b[0m\u001b[0;34m\u001b[0m\u001b[0;34m\u001b[0m\u001b[0;34m\u001b[0m\u001b[0m\n\u001b[0;32m-> 1267\u001b[0;31m             return VerboseTB.structured_traceback(\n\u001b[0m\u001b[1;32m   1268\u001b[0m                 \u001b[0mself\u001b[0m\u001b[0;34m,\u001b[0m \u001b[0metype\u001b[0m\u001b[0;34m,\u001b[0m \u001b[0mvalue\u001b[0m\u001b[0;34m,\u001b[0m \u001b[0mtb\u001b[0m\u001b[0;34m,\u001b[0m \u001b[0mtb_offset\u001b[0m\u001b[0;34m,\u001b[0m \u001b[0mnumber_of_lines_of_context\u001b[0m\u001b[0;34m\u001b[0m\u001b[0;34m\u001b[0m\u001b[0m\n\u001b[1;32m   1269\u001b[0m             )\n",
      "\u001b[0;32m~/opt/anaconda3/envs/pythontf/lib/python3.9/site-packages/IPython/core/ultratb.py\u001b[0m in \u001b[0;36mstructured_traceback\u001b[0;34m(self, etype, evalue, etb, tb_offset, number_of_lines_of_context)\u001b[0m\n\u001b[1;32m   1122\u001b[0m         \u001b[0;34m\"\"\"Return a nice text document describing the traceback.\"\"\"\u001b[0m\u001b[0;34m\u001b[0m\u001b[0;34m\u001b[0m\u001b[0m\n\u001b[1;32m   1123\u001b[0m \u001b[0;34m\u001b[0m\u001b[0m\n\u001b[0;32m-> 1124\u001b[0;31m         formatted_exception = self.format_exception_as_a_whole(etype, evalue, etb, number_of_lines_of_context,\n\u001b[0m\u001b[1;32m   1125\u001b[0m                                                                tb_offset)\n\u001b[1;32m   1126\u001b[0m \u001b[0;34m\u001b[0m\u001b[0m\n",
      "\u001b[0;32m~/opt/anaconda3/envs/pythontf/lib/python3.9/site-packages/IPython/core/ultratb.py\u001b[0m in \u001b[0;36mformat_exception_as_a_whole\u001b[0;34m(self, etype, evalue, etb, number_of_lines_of_context, tb_offset)\u001b[0m\n\u001b[1;32m   1080\u001b[0m \u001b[0;34m\u001b[0m\u001b[0m\n\u001b[1;32m   1081\u001b[0m \u001b[0;34m\u001b[0m\u001b[0m\n\u001b[0;32m-> 1082\u001b[0;31m         \u001b[0mlast_unique\u001b[0m\u001b[0;34m,\u001b[0m \u001b[0mrecursion_repeat\u001b[0m \u001b[0;34m=\u001b[0m \u001b[0mfind_recursion\u001b[0m\u001b[0;34m(\u001b[0m\u001b[0morig_etype\u001b[0m\u001b[0;34m,\u001b[0m \u001b[0mevalue\u001b[0m\u001b[0;34m,\u001b[0m \u001b[0mrecords\u001b[0m\u001b[0;34m)\u001b[0m\u001b[0;34m\u001b[0m\u001b[0;34m\u001b[0m\u001b[0m\n\u001b[0m\u001b[1;32m   1083\u001b[0m \u001b[0;34m\u001b[0m\u001b[0m\n\u001b[1;32m   1084\u001b[0m         \u001b[0mframes\u001b[0m \u001b[0;34m=\u001b[0m \u001b[0mself\u001b[0m\u001b[0;34m.\u001b[0m\u001b[0mformat_records\u001b[0m\u001b[0;34m(\u001b[0m\u001b[0mrecords\u001b[0m\u001b[0;34m,\u001b[0m \u001b[0mlast_unique\u001b[0m\u001b[0;34m,\u001b[0m \u001b[0mrecursion_repeat\u001b[0m\u001b[0;34m)\u001b[0m\u001b[0;34m\u001b[0m\u001b[0;34m\u001b[0m\u001b[0m\n",
      "\u001b[0;32m~/opt/anaconda3/envs/pythontf/lib/python3.9/site-packages/IPython/core/ultratb.py\u001b[0m in \u001b[0;36mfind_recursion\u001b[0;34m(etype, value, records)\u001b[0m\n\u001b[1;32m    380\u001b[0m     \u001b[0;31m# first frame (from in to out) that looks different.\u001b[0m\u001b[0;34m\u001b[0m\u001b[0;34m\u001b[0m\u001b[0;34m\u001b[0m\u001b[0m\n\u001b[1;32m    381\u001b[0m     \u001b[0;32mif\u001b[0m \u001b[0;32mnot\u001b[0m \u001b[0mis_recursion_error\u001b[0m\u001b[0;34m(\u001b[0m\u001b[0metype\u001b[0m\u001b[0;34m,\u001b[0m \u001b[0mvalue\u001b[0m\u001b[0;34m,\u001b[0m \u001b[0mrecords\u001b[0m\u001b[0;34m)\u001b[0m\u001b[0;34m:\u001b[0m\u001b[0;34m\u001b[0m\u001b[0;34m\u001b[0m\u001b[0m\n\u001b[0;32m--> 382\u001b[0;31m         \u001b[0;32mreturn\u001b[0m \u001b[0mlen\u001b[0m\u001b[0;34m(\u001b[0m\u001b[0mrecords\u001b[0m\u001b[0;34m)\u001b[0m\u001b[0;34m,\u001b[0m \u001b[0;36m0\u001b[0m\u001b[0;34m\u001b[0m\u001b[0;34m\u001b[0m\u001b[0m\n\u001b[0m\u001b[1;32m    383\u001b[0m \u001b[0;34m\u001b[0m\u001b[0m\n\u001b[1;32m    384\u001b[0m     \u001b[0;31m# Select filename, lineno, func_name to track frames with\u001b[0m\u001b[0;34m\u001b[0m\u001b[0;34m\u001b[0m\u001b[0;34m\u001b[0m\u001b[0m\n",
      "\u001b[0;31mTypeError\u001b[0m: object of type 'NoneType' has no len()"
     ]
    }
   ],
   "source": [
    "## Input parameters\n",
    "# Bumblebee API token\n",
    "APItoken = 'Qe9f4qU8ITbD0rP7rIRNvlgxZ5vYfahY8PW05en0'\n",
    "\n",
    "\n",
    "# Address of API\n",
    "API_URL = 'https://api.adsabs.harvard.edu/v1'\n",
    "QUERY_URL = \"%s/search/query\" % API_URL\n",
    "\n",
    "\n",
    "# Query parameters\n",
    "# The number of records to be returned in Solr query\n",
    "rows = 300\n",
    "\n",
    "\n",
    "# What data do we need back from Solr\n",
    "fields = \"bibcode,doi,first_author_norm,title,property\"\n",
    "\n",
    "\n",
    "# date string for output file\n",
    "dstring = datetime.today().strftime('%Y%m%d')\n",
    "\n",
    "\n",
    "# ## Get the query for which we want the data\n",
    "# try:\n",
    "#     query_file = sys.argv[1]\n",
    "# except:\n",
    "#     sys.exit('Please provide name for file with queries as argument...')\n",
    "\n",
    "query_file = 'queries.txt'\n",
    "# query_input = 'active_solar_chromosphere    keyword_schema:UAT keyword:1980' #RMM: manually input a sample query here\n",
    "    \n",
    "\n",
    "### Main part of script\n",
    "# get the entries in the input file\n",
    "try:\n",
    "    queries = open(query_file).read().strip().split('\\n')\n",
    "except Exception:\n",
    "    sys.exit('Failed to get queries from file')\n",
    "\n",
    "    \n",
    "# Now execute the queries\n",
    "for entry in queries:\n",
    "    # ignore comment lines\n",
    "    if entry.startswith('#'):\n",
    "        continue\n",
    "    # get file name and query\n",
    "    fname, query = entry.split('\\t')\n",
    "    # retrieve the records found by the query\n",
    "    try:\n",
    "        pubdata = get_records(APItoken, query, fields)\n",
    "    except Exception:\n",
    "        sys.exit('Failed to get results for query provided')\n",
    "    # determine output file\n",
    "    ofile = \"{0}_{1}.tsv\".format(fname, dstring)\n",
    "    # save some data in the records retrieved to the TSV file\n",
    "    with open(ofile, 'w') as out_file:\n",
    "        tsv_writer = csv.writer(out_file, delimiter='\\t')\n",
    "        for entry in pubdata:\n",
    "            properties = entry['property']\n",
    "            refstatus = 1\n",
    "            if 'REFEREED' not in properties:\n",
    "                refstatus = 0\n",
    "            openaccess = 1\n",
    "            if 'OPENACCESS' not in properties:\n",
    "                openaccess = 0\n",
    "            row = []\n",
    "            row.append(entry['bibcode'])\n",
    "            row.append(entry['doi'][0])\n",
    "            row.append(entry['first_author_norm'])\n",
    "            row.append(entry['title'][0].encode('utf-8'))\n",
    "            row.append(refstatus)\n",
    "            row.append(openaccess)\n",
    "            tsv_writer.writerow(row)"
   ]
  },
  {
   "cell_type": "code",
   "execution_count": null,
   "id": "30c7ffbf",
   "metadata": {},
   "outputs": [],
   "source": [
    "# Read the output file\n",
    "query_outputs = open(out_file)"
   ]
  },
  {
   "cell_type": "code",
   "execution_count": 20,
   "id": "94677e5b",
   "metadata": {
    "ExecuteTime": {
     "end_time": "2022-05-09T18:56:45.730933Z",
     "start_time": "2022-05-09T18:56:45.727103Z"
    }
   },
   "outputs": [
    {
     "data": {
      "text/plain": [
       "'keyword_schema:UAT keyword:1980'"
      ]
     },
     "execution_count": 20,
     "metadata": {},
     "output_type": "execute_result"
    }
   ],
   "source": [
    "for entry in queries:\n",
    "    # ignore comment lines\n",
    "    if entry.startswith('#'):\n",
    "        continue\n",
    "    # get file name and query\n",
    "    fname, query = entry.split('\\t')\n",
    "query"
   ]
  },
  {
   "cell_type": "code",
   "execution_count": null,
   "id": "a4c23ae9",
   "metadata": {},
   "outputs": [],
   "source": []
  }
 ],
 "metadata": {
  "kernelspec": {
   "display_name": "Python 3",
   "language": "python",
   "name": "python3"
  },
  "language_info": {
   "codemirror_mode": {
    "name": "ipython",
    "version": 3
   },
   "file_extension": ".py",
   "mimetype": "text/x-python",
   "name": "python",
   "nbconvert_exporter": "python",
   "pygments_lexer": "ipython3",
   "version": "3.9.2"
  }
 },
 "nbformat": 4,
 "nbformat_minor": 5
}
